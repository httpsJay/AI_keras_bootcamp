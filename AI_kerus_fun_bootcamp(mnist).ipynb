{
 "cells": [
  {
   "cell_type": "markdown",
   "metadata": {
    "_cell_guid": "7bd8a38e-44ae-40d9-970f-a62297223e94",
    "_uuid": "6e2bbf8365aa524e0056aff2e88304be24bf00df"
   },
   "source": [
    "# Keras\n",
    "\n",
    "![Keras Logo](https://storage.googleapis.com/aibootcamp/Week%202/assets/keras-logo-2018-large-1200.png)\n"
   ]
  },
  {
   "cell_type": "code",
   "execution_count": 7,
   "metadata": {
    "_cell_guid": "f78d2f6d-17cd-47df-b701-afc798ee6837",
    "_uuid": "9f945ed4ebe67d26642d56b462c8d3379648dd8c"
   },
   "outputs": [],
   "source": [
    "# Set seed with numpy\n",
    "import numpy as np\n",
    "np.random.seed(42)"
   ]
  },
  {
   "cell_type": "markdown",
   "metadata": {
    "_cell_guid": "f786d1cc-d82c-4ca5-9510-cd32f6a0963b",
    "_uuid": "1bcf204c9e581d4d6872a3b96612ec95e5b16c9f"
   },
   "source": [
    "And how could we live without pyplot?"
   ]
  },
  {
   "cell_type": "code",
   "execution_count": 8,
   "metadata": {
    "_cell_guid": "f48f1859-daea-4f28-b746-081f1adb274b",
    "_uuid": "a190bf6db8f90ae8bbd232ca23dfa5350f4b1ac3"
   },
   "outputs": [],
   "source": [
    "import matplotlib.pyplot as plt"
   ]
  },
  {
   "cell_type": "markdown",
   "metadata": {
    "_cell_guid": "b5641f0b-e604-4b18-b1e7-4f0f84af3fb0",
    "_uuid": "10c33890c668ccf7548527f1233bca06ef51ea75"
   },
   "source": [
    "## MNIST with Keras\n",
    "Perhaps the best way to understand how Keras works is by just getting started with it. In this introduction we are going to use the MNIST dataset, a collection of handwritten digits, to get to know Keras."
   ]
  },
  {
   "cell_type": "code",
   "execution_count": 9,
   "metadata": {
    "_cell_guid": "6dc21673-5313-4e20-a099-874c77c57afb",
    "_uuid": "119fe6aaa276cbe561c30efba9e6c106c071a127"
   },
   "outputs": [],
   "source": [
    "from keras.models import Sequential"
   ]
  },
  {
   "cell_type": "markdown",
   "metadata": {
    "_cell_guid": "da6c15f2-e039-4cce-86c4-c592b0909b8a",
    "_uuid": "b64f6d29f92a5d426f48c7c2bc5de5996b74ca43"
   },
   "source": [
    "Keras offers two basic ways to build models, the [sequential model](https://keras.io/getting-started/sequential-model-guide/), in which layers are just stacked on top of each other and the [functional API](https://keras.io/getting-started/functional-api-guide/) that allows to create more complex structures. For most of the course we will be using the sequential model. As you also can see from the import statement, Keras is using TensorFlow as a back end. Next up we need to import some modules we use to create our network:"
   ]
  },
  {
   "cell_type": "code",
   "execution_count": 10,
   "metadata": {
    "_cell_guid": "a35b59d2-3b26-431c-9bfa-efdc14e46fbe",
    "_uuid": "d34df9de4fd085724c51c43f801b7b0c6fb2eb06"
   },
   "outputs": [],
   "source": [
    "from keras.layers import Dense"
   ]
  },
  {
   "cell_type": "markdown",
   "metadata": {
    "_cell_guid": "871f283a-2d0c-43a4-b316-44fc6fbc7858",
    "_uuid": "52da156ad0d2a4872bee45ad2ecc2c9d41c02c73"
   },
   "source": [
    "We just imported the dense layer module and the activation function module. A dense layer is simply a layer in which every node is fully connected to all nodes from the previous layers. This was the case in all neural networks we have built so far but there are other possibilities, too. We will explore them later. Keras also provides a utility to directly load some common machine learning datasets."
   ]
  },
  {
   "cell_type": "code",
   "execution_count": null,
   "metadata": {
    "_cell_guid": "da959777-2eeb-44c5-8d16-3ed34162b09e",
    "_uuid": "256502942c751c9f887167a545bd4a1c160d4f74"
   },
   "outputs": [],
   "source": [
    "# Kaggle does not allow us to download the dataset through Keras\n",
    "# Luckily it is availeble on Kaggle anyways\n",
    "# This notebook is connected to the dataset so we can load it like this\n",
    "def mnist_load_data(path='mnist.npz'):\n",
    "    with np.load(path) as f:\n",
    "        x_train, y_train = f['x_train'], f['y_train']\n",
    "        x_test, y_test = f['x_test'], f['y_test']\n",
    "    return (x_train, y_train), (x_test, y_test)\n",
    "        \n",
    "\n",
    "(X_train, y_train), (X_test, y_test) = mnist_load_data(path='C:/Users/kiit1/AI_keras_bootcamp/input/mnist.npz')"
   ]
  },
  {
   "cell_type": "code",
   "execution_count": 36,
   "metadata": {
    "_cell_guid": "77e5cd16-58e8-4487-a3bc-a24ccbf73202",
    "_uuid": "990d3993ceec6a68c0447682e1eff29a8f576dcf"
   },
   "outputs": [
    {
     "data": {
      "image/png": "[encoded data removed]",
      "text/plain": [
       "<matplotlib.figure.Figure at 0x1f862af25f8>"
      ]
     },
     "metadata": {},
     "output_type": "display_data"
    }
   ],
   "source": [
    "# Visualize MNIST\n",
    "pixels = X_train[0]\n",
    "label = y_train[0]\n",
    "# Reshape the array into 28 x 28 array (2-dimensional array)\n",
    "pixels = pixels.reshape((28, 28))\n",
    "\n",
    "# Plot\n",
    "plt.title('Label is {label}'.format(label=label))\n",
    "plt.imshow(pixels, cmap='gray')\n",
    "plt.show()"
   ]
  },
  {
   "cell_type": "markdown",
   "metadata": {
    "_cell_guid": "a6412736-5d14-4f4d-922c-2ea594c267d7",
    "_uuid": "695347a36b5406454739b0e55ea5f765ef6af839"
   },
   "source": [
    "For onehot encoding we will continue to use SciKit Learn"
   ]
  },
  {
   "cell_type": "code",
   "execution_count": 37,
   "metadata": {
    "_cell_guid": "4bc26a6c-015f-4ce4-b9b4-a397012c5e61",
    "_uuid": "a3f8b15fa7958fd5f81260ef830c49e795741ec1"
   },
   "outputs": [],
   "source": [
    "from sklearn.preprocessing import OneHotEncoder\n",
    "# Generate one hot encoding\n",
    "\n",
    "# Reshape from array to vector\n",
    "y_train = y_train.reshape(y_train.shape[0],1)\n",
    "# Generate one hot encoding\n",
    "enc = OneHotEncoder()\n",
    "onehot = enc.fit_transform(y_train)\n",
    "# Convert to numpy vector\n",
    "y_train = onehot.toarray()\n",
    "\n",
    "# Reshape from array to vector\n",
    "y_test = y_test.reshape(y_test.shape[0],1)\n",
    "# Generate one hot encoding\n",
    "enc = OneHotEncoder()\n",
    "onehot = enc.fit_transform(y_test)\n",
    "# Convert to numpy vector\n",
    "y_test = onehot.toarray()"
   ]
  },
  {
   "cell_type": "code",
   "execution_count": 38,
   "metadata": {
    "_cell_guid": "b0ae17c6-294d-4bc3-b1ca-06e5ef609db5",
    "_uuid": "1778429125292e8926a303c14581405dfd3e7387"
   },
   "outputs": [
    {
     "data": {
      "image/png": "[encoded data removed]",
      "text/plain": [
       "<matplotlib.figure.Figure at 0x1f862b005c0>"
      ]
     },
     "metadata": {},
     "output_type": "display_data"
    }
   ],
   "source": [
    "# Visualize MNIST\n",
    "# NOW WITH ONE HOT\n",
    "pixels = X_train[0]\n",
    "label = y_train[0]\n",
    "# Reshape the array into 28 x 28 array (2-dimensional array)\n",
    "pixels = pixels.reshape((28, 28))\n",
    "\n",
    "# Plot\n",
    "plt.title('Label is {label}'.format(label=label))\n",
    "plt.imshow(pixels, cmap='gray')\n",
    "plt.show()"
   ]
  },
  {
   "cell_type": "markdown",
   "metadata": {
    "_cell_guid": "01db0153-7a82-4a41-acc0-baaac2f11e70",
    "_uuid": "1065bfccd8adc14db55e345dc29abea0812b0a1a"
   },
   "source": [
    "We also have to reshape the input X, which is a stack of matrices in the raw data into a stack of vectors."
   ]
  },
  {
   "cell_type": "code",
   "execution_count": 39,
   "metadata": {
    "_cell_guid": "9a17b5c5-92d7-4f54-bfef-37ba03a383c4",
    "_uuid": "f92e9b02f585a8a0c19895428c4b1f5e8338b1a1"
   },
   "outputs": [],
   "source": [
    "X_train = X_train.reshape(X_train.shape[0],X_train.shape[1] * X_train.shape[2])\n",
    "X_test = X_test.reshape(X_test.shape[0],X_test.shape[1] * X_test.shape[2])"
   ]
  },
  {
   "cell_type": "markdown",
   "metadata": {
    "_cell_guid": "f2b7444e-995c-4edf-8f6f-b6e195b89662",
    "_uuid": "a4fe9b8229a7913f7c36e8569e5c2b6e2019e0dd"
   },
   "source": [
    "Now it is time to build our model! We initialize the model building process like this:"
   ]
  },
  {
   "cell_type": "code",
   "execution_count": 40,
   "metadata": {
    "_cell_guid": "4beb16bf-a3a8-4785-b840-b7e3c69481ab",
    "_uuid": "dca45617aefbabd1c3ec2d7ccf2e94890b0a7e28"
   },
   "outputs": [],
   "source": [
    "model = Sequential()"
   ]
  },
  {
   "cell_type": "markdown",
   "metadata": {
    "_cell_guid": "ea8dc12f-59e8-4c2c-9b33-666a247d9ca1",
    "_uuid": "1bccaee9dd5e1fd763c5fb88ec4b9bc22cc4854f"
   },
   "source": [
    "Now adding layers can be done with a simple ```.add()```"
   ]
  },
  {
   "cell_type": "code",
   "execution_count": 41,
   "metadata": {
    "_cell_guid": "7aafe379-f846-472a-9cbf-fe6eaf9c2dfa",
    "_uuid": "d7012d264e9e4bc0fc9c5aa988573da46bb8ba08"
   },
   "outputs": [],
   "source": [
    "# For the first layer we have to specify the input dimensions\n",
    "model.add(Dense(units=320, input_dim=784, activation='tanh'))\n",
    "\n",
    "model.add(Dense(units=160, activation='tanh'))\n",
    "\n",
    "model.add(Dense(units=10, activation='softmax'))\n"
   ]
  },
  {
   "cell_type": "markdown",
   "metadata": {
    "_cell_guid": "ac9c28c4-d00b-4678-a92a-473c0b305e04",
    "_uuid": "fe10722d67503268a2636ce65b0908bcb08f72ab"
   },
   "source": [
    "Now we have to compile the model, turning it into a [static graph TensorFlow can execute](https://stackoverflow.com/questions/46154189/what-is-the-difference-of-static-computational-graphs-in-tensorflow-and-dynamic). In the compile statement we need to specify three things:\n",
    "- The loss function: Here categorical crossentropy\n",
    "- The optimization algorithm: Here vanilla stochastic gradient descent\n",
    "- Metrics we want to track: Here just the accuracy\n",
    "\n",
    "You might have noticed that we have not provided the learning rate. If we just specify what type of optimizer we would like to use, without hyper parameters for that optimizer, Keras will choose default hyper parameters for us. In this case, the learning rate is [set to 0.01](https://keras.io/optimizers/#sgd), we will later see how to set optimizers with different hyper parameters."
   ]
  },
  {
   "cell_type": "code",
   "execution_count": 42,
   "metadata": {
    "_cell_guid": "a58a7524-48ea-4f98-84e8-9400248a6ee5",
    "_uuid": "66989eed60c889e8bd266c46e0542d8b7777ae76"
   },
   "outputs": [],
   "source": [
    "model.compile(loss='categorical_crossentropy',\n",
    "              optimizer='sgd',\n",
    "              metrics=['accuracy'])"
   ]
  },
  {
   "cell_type": "markdown",
   "metadata": {
    "_cell_guid": "f4d77a5e-4a48-4720-952d-bbb858ea70dc",
    "_uuid": "e2943f15f589ff7d249ac1e3a07a1234d4e32cbb"
   },
   "source": [
    "Now there is only the training left to be done."
   ]
  },
  {
   "cell_type": "code",
   "execution_count": 43,
   "metadata": {
    "_cell_guid": "4990d880-42f7-42c7-8648-0b4fe8adccbd",
    "_uuid": "ce3611679a8ac09dade040e05d570e9e565df8c1"
   },
   "outputs": [
    {
     "name": "stdout",
     "output_type": "stream",
     "text": [
      "Epoch 1/10\n",
      "60000/60000 [==============================] - 10s 161us/step - loss: 0.5635 - acc: 0.8423\n",
      "Epoch 2/10\n",
      "60000/60000 [==============================] - 9s 156us/step - loss: 0.4101 - acc: 0.8807\n",
      "Epoch 3/10\n",
      "60000/60000 [==============================] - 11s 183us/step - loss: 0.3802 - acc: 0.88640s - loss: 0.3794 - acc:\n",
      "Epoch 4/10\n",
      "60000/60000 [==============================] - 9s 149us/step - loss: 0.3545 - acc: 0.8932\n",
      "Epoch 5/10\n",
      "60000/60000 [==============================] - 10s 165us/step - loss: 0.3565 - acc: 0.8924\n",
      "Epoch 6/10\n",
      "60000/60000 [==============================] - 10s 172us/step - loss: 0.3291 - acc: 0.9002\n",
      "Epoch 7/10\n",
      "60000/60000 [==============================] - 10s 174us/step - loss: 0.3349 - acc: 0.8968\n",
      "Epoch 8/10\n",
      "60000/60000 [==============================] - 10s 166us/step - loss: 0.3370 - acc: 0.8971\n",
      "Epoch 9/10\n",
      "60000/60000 [==============================] - 9s 147us/step - loss: 0.3240 - acc: 0.9006 \n",
      "Epoch 10/10\n",
      "60000/60000 [==============================] - 9s 154us/step - loss: 0.3219 - acc: 0.9006\n"
     ]
    }
   ],
   "source": [
    "# x_train and y_train are Numpy arrays --just like in the Scikit-Learn API.\n",
    "history = model.fit(X_train, y_train, epochs=10, batch_size=32)"
   ]
  },
  {
   "cell_type": "markdown",
   "metadata": {
    "_cell_guid": "b0bd61f8-aca0-47ac-b8d9-fcee385acc8d",
    "_uuid": "219865fe8fc9b3287f99b247292410132344efb3"
   },
   "source": [
    "You will probably have noticed that this runs quite a bit faster than when we implemented our own neural network in numpy. That is because TensorFlow, which handles all the math operations is optimized for exactly these kinds of operations. Another advantage is that TensorFlow can run on a graphics processing unit (GPU). GPUs where originally invented to render computer game graphics, but it turned out that their architecture was ideal for deep learning. Much of deep learnings recent progress is owed to the fact that powerful GPUs and tools to use them for things other than graphics came on the market.\n",
    "\n",
    "We can visualize how our model made progress through the history we obtained from training:"
   ]
  },
  {
   "cell_type": "code",
   "execution_count": 44,
   "metadata": {
    "_cell_guid": "207fe44d-c43a-44db-9be5-a89bb234e06c",
    "_uuid": "42870828e1572cdffcfd01cea87153e02aece6dd"
   },
   "outputs": [
    {
     "data": {
      "image/png": "[encoded data removed]",
      "text/plain": [
       "<matplotlib.figure.Figure at 0x1f8635784e0>"
      ]
     },
     "metadata": {},
     "output_type": "display_data"
    }
   ],
   "source": [
    "# Plot the loss development\n",
    "plt.plot(history.history['loss'])\n",
    "plt.xlabel('Epochs')\n",
    "plt.ylabel('loss')\n",
    "plt.show()"
   ]
  },
  {
   "cell_type": "code",
   "execution_count": 45,
   "metadata": {
    "_cell_guid": "0e42186f-86d6-4de9-b6dd-d240a8af0e40",
    "_uuid": "d79026169e1bc7a4d4c9ba6d9066b7cf24edcabd"
   },
   "outputs": [
    {
     "data": {
      "image/png": "[encoded data removed]",
      "text/plain": [
       "<matplotlib.figure.Figure at 0x1f8633e0780>"
      ]
     },
     "metadata": {},
     "output_type": "display_data"
    }
   ],
   "source": [
    "# Plot the accuracy development\n",
    "plt.plot(history.history['acc'])\n",
    "plt.xlabel('Epochs')\n",
    "plt.ylabel('Accuracy')\n",
    "plt.show()"
   ]
  },
  {
   "cell_type": "markdown",
   "metadata": {
    "_cell_guid": "0d5c4b14-4bc3-4cee-873e-72be54411d8b",
    "_uuid": "3e95d90ecf3552c04ec5703f72ab1a419b613f82"
   },
   "source": [
    "To see how good our model actually is or weather it overfits the training set, let's evaluate it on the test set:"
   ]
  },
  {
   "cell_type": "code",
   "execution_count": 46,
   "metadata": {
    "_cell_guid": "cb25ce1b-5e56-495f-8230-9759dade60f2",
    "_uuid": "a1b76797500d45e3f8af5ca6fdbd4ed88f1d9d2e"
   },
   "outputs": [
    {
     "name": "stdout",
     "output_type": "stream",
     "text": [
      "10000/10000 [==============================] - 1s 65us/step\n"
     ]
    },
    {
     "data": {
      "text/plain": [
       "[0.28336149607896804, 0.912]"
      ]
     },
     "execution_count": 46,
     "metadata": {},
     "output_type": "execute_result"
    }
   ],
   "source": [
    "model.evaluate(x=X_test,y=y_test)"
   ]
  },
  {
   "cell_type": "markdown",
   "metadata": {
    "_cell_guid": "5c6677cf-354a-4944-a5e0-717b5fc56f46",
    "_uuid": "0d62062fccb082bc831e468a5781b1429eea8186"
   },
   "source": [
    "The first number in this output is the loss over the training set, the second the accuracy. We have achieved 90% very good!"
   ]
  },
  {
   "cell_type": "markdown",
   "metadata": {
    "_cell_guid": "d587250b-124d-4703-abbe-026c9db58d7e",
    "_uuid": "5322e2414dd6ac1c0cd2b7606ae700bf07748c8f"
   },
   "source": [
    "## Setting optimizer hyper parameters\n",
    "To set optimizer hyper parameters manually, we have to import the optimizer itself and then add it into our model. Like this:"
   ]
  },
  {
   "cell_type": "code",
   "execution_count": 47,
   "metadata": {
    "_cell_guid": "c7992ff6-6f7e-4dce-8bee-9b9a4f939d3d",
    "_uuid": "8ae2153e1202e480df3722a46bc5fbae3e0becf1"
   },
   "outputs": [],
   "source": [
    "from keras import optimizers"
   ]
  },
  {
   "cell_type": "markdown",
   "metadata": {
    "_cell_guid": "bb76af7e-5e10-417b-8e7c-9c25f99b12db",
    "_uuid": "e1ce8c095f163f9bf1d23d5cbefb84a3c4c94fce"
   },
   "source": [
    "We are going to set the learning rate very low here (0.001) to show that the model learns much more slowly now"
   ]
  },
  {
   "cell_type": "code",
   "execution_count": 48,
   "metadata": {
    "_cell_guid": "60d745f2-c7b7-49a4-a2d4-31b718c4796f",
    "_uuid": "746218fec6d828bff2d4523d10879b7036655496"
   },
   "outputs": [],
   "source": [
    "# Same Sequential model\n",
    "model = Sequential()\n",
    "# Add layers\n",
    "model.add(Dense(units=320, input_dim=784, activation='tanh'))\n",
    "model.add(Dense(units=160, activation='tanh'))\n",
    "model.add(Dense(units=10, activation='softmax'))\n",
    "# New compile statement\n",
    "model.compile(loss='categorical_crossentropy',\n",
    "              optimizer=optimizers.SGD(lr=0.001),\n",
    "              metrics=['accuracy'])"
   ]
  },
  {
   "cell_type": "code",
   "execution_count": 49,
   "metadata": {
    "_cell_guid": "3b5c8c67-1b51-4fb8-a265-7d1fe5e52024",
    "_uuid": "a47b6f096e5126e40d472472354a894814e8c581"
   },
   "outputs": [
    {
     "name": "stdout",
     "output_type": "stream",
     "text": [
      "Epoch 1/10\n",
      "60000/60000 [==============================] - 10s 162us/step - loss: 0.9205 - acc: 0.7412\n",
      "Epoch 2/10\n",
      "60000/60000 [==============================] - 9s 156us/step - loss: 0.4594 - acc: 0.8767\n",
      "Epoch 3/10\n",
      "60000/60000 [==============================] - 9s 142us/step - loss: 0.3734 - acc: 0.8973\n",
      "Epoch 4/10\n",
      "60000/60000 [==============================] - 9s 142us/step - loss: 0.3251 - acc: 0.9095\n",
      "Epoch 5/10\n",
      "60000/60000 [==============================] - 10s 160us/step - loss: 0.2921 - acc: 0.9184\n",
      "Epoch 6/10\n",
      "60000/60000 [==============================] - 9s 153us/step - loss: 0.2708 - acc: 0.9231\n",
      "Epoch 7/10\n",
      "60000/60000 [==============================] - 8s 140us/step - loss: 0.2517 - acc: 0.9291\n",
      "Epoch 8/10\n",
      "60000/60000 [==============================] - 8s 139us/step - loss: 0.2370 - acc: 0.9333\n",
      "Epoch 9/10\n",
      "60000/60000 [==============================] - 8s 140us/step - loss: 0.2258 - acc: 0.9356\n",
      "Epoch 10/10\n",
      "60000/60000 [==============================] - 8s 141us/step - loss: 0.2134 - acc: 0.9395\n"
     ]
    }
   ],
   "source": [
    "# Training should be much more slow now\n",
    "# x_train and y_train are Numpy arrays --just like in the Scikit-Learn API.\n",
    "history = model.fit(X_train, y_train, epochs=10, batch_size=32)"
   ]
  },
  {
   "cell_type": "code",
   "execution_count": 50,
   "metadata": {
    "_cell_guid": "36550dfb-7776-42b2-a59a-ef50428d8093",
    "_uuid": "67c35145d9778bfb6a66cc9bbed43c80a4c33d5f"
   },
   "outputs": [
    {
     "data": {
      "image/png": "[encoded data removed]",
      "text/plain": [
       "<matplotlib.figure.Figure at 0x1f85c41a908>"
      ]
     },
     "metadata": {},
     "output_type": "display_data"
    }
   ],
   "source": [
    "plt.plot(history.history['acc'])\n",
    "plt.xlabel('Epochs')\n",
    "plt.ylabel('Accuracy')\n",
    "plt.show()"
   ]
  },
  {
   "cell_type": "code",
   "execution_count": 51,
   "metadata": {
    "_cell_guid": "ee79e7c3-2f18-4e0c-ae07-c16374529db0",
    "_uuid": "54bccec060932acb86b9f7f3f13b50f951908e27"
   },
   "outputs": [
    {
     "name": "stdout",
     "output_type": "stream",
     "text": [
      "10000/10000 [==============================] - 1s 64us/step\n"
     ]
    },
    {
     "data": {
      "text/plain": [
       "[0.2176602131664753, 0.9366]"
      ]
     },
     "execution_count": 51,
     "metadata": {},
     "output_type": "execute_result"
    }
   ],
   "source": [
    "model.evaluate(x=X_test,y=y_test)"
   ]
  },
  {
   "cell_type": "markdown",
   "metadata": {
    "_cell_guid": "2946fea3-5602-4123-8f6e-a958a10fa0ce",
    "_uuid": "a7e363aefcb296805d41c440c6283a398e01638c"
   },
   "source": [
    "As you can see, the model took a bit longer in the beginning but then achieved a better result: over 91% accuracy!"
   ]
  },
  {
   "cell_type": "markdown",
   "metadata": {
    "_cell_guid": "efc18e20-10b0-40cd-a6ac-ec9682857d7a",
    "_uuid": "6761a75bce64325ccfeee787e42dfb71536cd45b"
   },
   "source": [
    "## Loading and saving models\n",
    "Training models is hard work and requires a lot of computing power, so if we could not save the fruits of our work somehow we would be in trouble. Luckily, [loading and saving models with Keras](https://keras.io/getting-started/faq/#how-can-i-save-a-keras-model) is quite simple. We can save a model as an [H5 data file](http://www.h5py.org/) like this:"
   ]
  },
  {
   "cell_type": "code",
   "execution_count": 52,
   "metadata": {
    "_cell_guid": "0f521e47-20ae-4db0-a6c5-c60e4b63b9d8",
    "_uuid": "09c04f657e14ca7b74cef5e1cfb378b4e1531437"
   },
   "outputs": [],
   "source": [
    "# On Kaggle this can be found under Outputs\n",
    "model.save('my_model.h5')"
   ]
  },
  {
   "cell_type": "markdown",
   "metadata": {
    "_cell_guid": "7bc5e111-56c7-4367-9e9f-299c0b07c9ee",
    "_uuid": "7dd24711538781a310286cbbf366f62bb6d1130c"
   },
   "source": [
    "Loading a model works like this:"
   ]
  },
  {
   "cell_type": "code",
   "execution_count": 53,
   "metadata": {
    "_cell_guid": "8b3add7f-fb1d-4553-87e5-fea5d71843f8",
    "_uuid": "ad397d85393bdf1e9806489016610cea5ecd0417"
   },
   "outputs": [],
   "source": [
    "# First we need to import the corresponding function\n",
    "from keras.models import load_model"
   ]
  },
  {
   "cell_type": "code",
   "execution_count": 54,
   "metadata": {
    "_cell_guid": "f6bfec04-d1d8-477a-aec9-e66d0ef361e9",
    "_uuid": "0106fa5cb6526848d1fcf9aa063128a757dd808c"
   },
   "outputs": [],
   "source": [
    "model = load_model('my_model.h5')"
   ]
  },
  {
   "cell_type": "markdown",
   "metadata": {
    "_cell_guid": "a9c5f7fb-745a-44fa-a692-760ed405684f",
    "_uuid": "b57a94013236109b916d33d83de12190c85032f8"
   },
   "source": [
    "After we have loaded a model from the h5 file we get the exact same keras model that we saved back."
   ]
  },
  {
   "cell_type": "markdown",
   "metadata": {
    "_cell_guid": "6e2ff63d-617a-48d1-a36b-90890a6393ef",
    "_uuid": "4adf9c09d4859931735cab023d5b504d95d52c95"
   },
   "source": [
    "## Summary\n",
    "And thus concludes our brief introduction to Keras. You have seen how to set up a simple model, how to set hyper parameters, and how to make Keras work with TensorBoard. To get more used to its sequential model, try implementing a different model for MNIST. Good luck!"
   ]
  }
 ],
 "metadata": {
  "anaconda-cloud": {},
  "kernelspec": {
   "display_name": "Python 3",
   "language": "python",
   "name": "python3"
  },
  "language_info": {
   "codemirror_mode": {
    "name": "ipython",
    "version": 3
   },
   "file_extension": ".py",
   "mimetype": "text/x-python",
   "name": "python",
   "nbconvert_exporter": "python",
   "pygments_lexer": "ipython3",
   "version": "3.6.4"
  }
 },
 "nbformat": 4,
 "nbformat_minor": 1
}
